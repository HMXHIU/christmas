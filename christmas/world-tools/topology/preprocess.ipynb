{
 "cells": [
  {
   "cell_type": "code",
   "execution_count": 1,
   "id": "9194e2c3-b4ad-4436-8a8e-7e1117cab978",
   "metadata": {},
   "outputs": [],
   "source": [
    "import glob\n",
    "import os\n",
    "import shutil\n",
    "import re\n",
    "from PIL import Image"
   ]
  },
  {
   "cell_type": "code",
   "execution_count": 8,
   "id": "a435175e-928a-4c47-abaa-cf3153a8bd39",
   "metadata": {},
   "outputs": [],
   "source": [
    "evenChars = [\"bcfguvyz\",\"89destwx\",\"2367kmqr\",\"0145hjnp\"]\n",
    "oddChars = [\"prxz\",\"nqwy\",\"jmtv\",\"hksu\",\"57eg\",\"46df\",\"139c\",\"028b\"]\n",
    "evenColRow = {\n",
    "    \"b\": [0,0],\n",
    "    \"c\": [1,0],\n",
    "    \"f\": [2,0],\n",
    "    \"g\": [3,0],\n",
    "    \"u\": [4,0],\n",
    "    \"v\": [5,0],\n",
    "    \"y\": [6,0],\n",
    "    \"z\": [7,0],\n",
    "\n",
    "    \"8\": [0,1],\n",
    "    \"9\": [1,1],\n",
    "    \"d\": [2,1],\n",
    "    \"e\": [3,1],\n",
    "    \"s\": [4,1],\n",
    "    \"t\": [5,1],\n",
    "    \"w\": [6,1],\n",
    "    \"x\": [7,1],\n",
    "\n",
    "    \"2\": [0,2],\n",
    "    \"3\": [1,2],\n",
    "    \"6\": [2,2],\n",
    "    \"7\": [3,2],\n",
    "    \"k\": [4,2],\n",
    "    \"m\": [5,2],\n",
    "    \"q\": [6,2],\n",
    "    \"r\": [7,2],\n",
    "\n",
    "    \"0\": [0,3],\n",
    "    \"1\": [1,3],\n",
    "    \"4\": [2,3],\n",
    "    \"5\": [3,3],\n",
    "    \"h\": [4,3],\n",
    "    \"j\": [5,3],\n",
    "    \"n\": [6,3],\n",
    "    \"p\": [7,3],\n",
    "}\n",
    "\n",
    "oddColRow = {\n",
    "    \"p\": [0, 0],\n",
    "    \"r\": [1, 0],\n",
    "    \"x\": [2, 0],\n",
    "    \"z\": [3, 0],\n",
    "\n",
    "    \"n\": [0, 1],\n",
    "    \"q\": [1, 1],\n",
    "    \"w\": [2, 1],\n",
    "    \"y\": [3, 1],\n",
    "\n",
    "    \"j\": [0, 2],\n",
    "    \"m\": [1, 2],\n",
    "    \"t\": [2, 2],\n",
    "    \"v\": [3, 2],\n",
    "\n",
    "    \"h\": [0, 3],\n",
    "    \"k\": [1, 3],\n",
    "    \"s\": [2, 3],\n",
    "    \"u\": [3, 3],\n",
    "\n",
    "    \"5\": [0, 4],\n",
    "    \"7\": [1, 4],\n",
    "    \"e\": [2, 4],\n",
    "    \"g\": [3, 4],\n",
    "\n",
    "    \"4\": [0, 5],\n",
    "    \"6\": [1, 5],\n",
    "    \"d\": [2, 5],\n",
    "    \"f\": [3, 5],\n",
    "\n",
    "    \"1\": [0, 6],\n",
    "    \"3\": [1, 6],\n",
    "    \"9\": [2, 6],\n",
    "    \"c\": [3, 6],\n",
    "\n",
    "    \"0\": [0, 7],\n",
    "    \"2\": [1, 7],\n",
    "    \"8\": [2, 7],\n",
    "    \"b\": [3, 7],\n",
    "}\n",
    "\n",
    "gridSizeAtPrecision = {\n",
    "    1: { \"rows\": 4, \"cols\": 8 },\n",
    "    2: { \"rows\": 4 * 8, \"cols\": 8 * 4 },\n",
    "    3: { \"rows\": 4 * 8 * 4, \"cols\": 8 * 4 * 8 },\n",
    "    4: { \"rows\": 4 * 8 * 4 * 8, \"cols\": 8 * 4 * 8 * 4 },\n",
    "    5: { \"rows\": 4 * 8 * 4 * 8 * 4, \"cols\": 8 * 4 * 8 * 4 * 8 },\n",
    "    6: { \"rows\": 4 * 8 * 4 * 8 * 4 * 8, \"cols\": 8 * 4 * 8 * 4 * 8 * 4 },\n",
    "    7: { \"rows\": 4 * 8 * 4 * 8 * 4 * 8 * 4, \"cols\": 8 * 4 * 8 * 4 * 8 * 4 * 8 },\n",
    "    8: {\n",
    "        \"rows\": 4 * 8 * 4 * 8 * 4 * 8 * 4 * 8,\n",
    "        \"cols\": 8 * 4 * 8 * 4 * 8 * 4 * 8 * 4,\n",
    "    },\n",
    "    9: {\n",
    "        \"rows\": 4 * 8 * 4 * 8 * 4 * 8 * 4 * 8 * 4,\n",
    "        \"cols\": 8 * 4 * 8 * 4 * 8 * 4 * 8 * 4 * 8,\n",
    "    },\n",
    "};\n",
    "\n",
    "def charAtCell(row, col):\n",
    "    j, rrow = divmod(row, 8)\n",
    "    i, ccol = divmod(col, 4)\n",
    "    c1 = evenChars[j][i]\n",
    "    c2 = oddChars[rrow][ccol]\n",
    "    return f'{c1}{c2}'"
   ]
  },
  {
   "cell_type": "code",
   "execution_count": 3,
   "id": "2901a321-358a-4f87-92e9-7718104a0b81",
   "metadata": {},
   "outputs": [],
   "source": [
    "def compress_png(input_file, output_file):\n",
    "    \"\"\"Compresses a PNG image\"\"\"\n",
    "    image = Image.open(input_file)\n",
    "    image = image.convert(\"RGB\") # Remove alpha channel\n",
    "    image = image.convert(\"L\") # Convert to grayscale\n",
    "    image.save(output_file)"
   ]
  },
  {
   "cell_type": "code",
   "execution_count": 4,
   "id": "8ecb3f29-5988-4e7a-a4c2-3d90748a6281",
   "metadata": {},
   "outputs": [],
   "source": [
    "# Rename files\n",
    "folder = \"geohash_2p/*\"\n",
    "dest = \"topology_2p\"\n",
    "for f in sorted(glob.glob(folder)):\n",
    "    if os.path.isfile(f):\n",
    "        match = re.match(r'^.*_(\\d+)\\.png$', f)\n",
    "        fid = int(match.groups()[0])  # 1 - 1024 for 2 precision 32 by 32 grid\n",
    "        col, row = divmod(fid - 1, 32) # fid goes from top to bottom left to right\n",
    "        compress_png(f, f'{dest}/{charAtCell(row,col)}.png')"
   ]
  },
  {
   "cell_type": "code",
   "execution_count": null,
   "id": "9ed80f42-71ea-4288-97be-7ea778898a68",
   "metadata": {},
   "outputs": [],
   "source": []
  },
  {
   "cell_type": "code",
   "execution_count": 34,
   "id": "1ea5d521-0c45-42d1-9be6-ea2cff2cde3a",
   "metadata": {},
   "outputs": [],
   "source": [
    "def geohashToRowCol(geohash):\n",
    "    precision = len(geohash)\n",
    "\n",
    "    if precision == 1:\n",
    "        return evenColRow[geohash]\n",
    "        \n",
    "    [xp, yp] = geohashToRowCol(geohash[0:-1])\n",
    "    \n",
    "    if (precision - 1) % 2 == 0:\n",
    "        [x, y] = evenColRow[geohash[-1]]\n",
    "        return [x + xp * 8, y + yp * 4]\n",
    "     \n",
    "    else:\n",
    "        [x, y] = oddColRow[geohash[-1]]\n",
    "        return [x + xp * 4, y + yp * 8]\n"
   ]
  },
  {
   "cell_type": "code",
   "execution_count": 35,
   "id": "0dad0219-2e3a-43c2-a5d9-b92195891394",
   "metadata": {},
   "outputs": [
    {
     "data": {
      "text/plain": [
       "[0, 24]"
      ]
     },
     "execution_count": 35,
     "metadata": {},
     "output_type": "execute_result"
    }
   ],
   "source": [
    "geohashToRowCol('0p')"
   ]
  },
  {
   "cell_type": "code",
   "execution_count": null,
   "id": "1d56862a-21fa-4eee-ad47-8b3abcb29c83",
   "metadata": {},
   "outputs": [],
   "source": []
  },
  {
   "cell_type": "code",
   "execution_count": null,
   "id": "638add7d-b491-4101-bc7e-92fe1c1761af",
   "metadata": {},
   "outputs": [],
   "source": []
  },
  {
   "cell_type": "code",
   "execution_count": null,
   "id": "31f64ce8-7fb6-498b-a4e9-3fd946eb29ab",
   "metadata": {},
   "outputs": [],
   "source": []
  }
 ],
 "metadata": {
  "kernelspec": {
   "display_name": "Python 3 (ipykernel)",
   "language": "python",
   "name": "python3"
  },
  "language_info": {
   "codemirror_mode": {
    "name": "ipython",
    "version": 3
   },
   "file_extension": ".py",
   "mimetype": "text/x-python",
   "name": "python",
   "nbconvert_exporter": "python",
   "pygments_lexer": "ipython3",
   "version": "3.12.1"
  }
 },
 "nbformat": 4,
 "nbformat_minor": 5
}
