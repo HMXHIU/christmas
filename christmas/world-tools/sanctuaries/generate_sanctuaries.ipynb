{
 "cells": [
  {
   "cell_type": "code",
   "execution_count": 55,
   "id": "e40bf3e3-7fe9-455f-8180-4ca2adcc436e",
   "metadata": {},
   "outputs": [],
   "source": [
    "import pandas as pd\n",
    "import geohash"
   ]
  },
  {
   "cell_type": "code",
   "execution_count": 65,
   "id": "af1f9d4f-5b61-428b-a356-53cb908e3d98",
   "metadata": {},
   "outputs": [],
   "source": [
    "populated_places_csv = 'ne_110m_populated_places.csv'\n",
    "\n",
    "df = pd.read_csv(populated_places_csv)\n",
    "REGION_HEADER = 'ADM0_A3'\n",
    "LAT_HEADER = 'LATITUDE'\n",
    "LON_HEADER = 'LONGITUDE'\n",
    "NAME_HEADER = 'NAMEASCII'\n",
    "POPULATION_HEADER = 'POP_MAX'\n",
    "TIMEZONE_HEADER = 'TIMEZONE'\n",
    "GEOHASH_HEADER = 'geohash' # generated\n",
    "\n",
    "export_columns = [NAME_HEADER, REGION_HEADER, GEOHASH_HEADER, POPULATION_HEADER, TIMEZONE_HEADER]"
   ]
  },
  {
   "cell_type": "code",
   "execution_count": 66,
   "id": "db780ccb-c6ab-412d-8a80-23bc8d306233",
   "metadata": {},
   "outputs": [],
   "source": [
    "def encode_geohash(row):\n",
    "    return geohash.encode(row[LAT_HEADER], row[LON_HEADER], 8)"
   ]
  },
  {
   "cell_type": "code",
   "execution_count": 67,
   "id": "7b7eb7de-89ee-488b-be8a-ace7e36fa0cb",
   "metadata": {},
   "outputs": [],
   "source": [
    "df['geohash'] = df.apply(encode_geohash, axis=1)"
   ]
  },
  {
   "cell_type": "code",
   "execution_count": 68,
   "id": "32713f93-0a33-468d-9871-9d58a1faa5f8",
   "metadata": {},
   "outputs": [],
   "source": [
    "df_export = df[export_columns].rename(columns={\n",
    "    TIMEZONE_HEADER: \"timezone\",\n",
    "    NAME_HEADER: \"name\",\n",
    "    POPULATION_HEADER: \"population\",\n",
    "    REGION_HEADER: \"region\",\n",
    "})"
   ]
  },
  {
   "cell_type": "markdown",
   "id": "753b167d-abc9-4d9f-aa1f-b3040ce5a97f",
   "metadata": {},
   "source": [
    "# Clean"
   ]
  },
  {
   "cell_type": "code",
   "execution_count": 69,
   "id": "b75f81c3-6284-4381-a26f-7cb8dfb453ba",
   "metadata": {},
   "outputs": [
    {
     "data": {
      "text/html": [
       "<div>\n",
       "<style scoped>\n",
       "    .dataframe tbody tr th:only-of-type {\n",
       "        vertical-align: middle;\n",
       "    }\n",
       "\n",
       "    .dataframe tbody tr th {\n",
       "        vertical-align: top;\n",
       "    }\n",
       "\n",
       "    .dataframe thead th {\n",
       "        text-align: right;\n",
       "    }\n",
       "</style>\n",
       "<table border=\"1\" class=\"dataframe\">\n",
       "  <thead>\n",
       "    <tr style=\"text-align: right;\">\n",
       "      <th></th>\n",
       "      <th>name</th>\n",
       "      <th>region</th>\n",
       "      <th>geohash</th>\n",
       "      <th>population</th>\n",
       "      <th>timezone</th>\n",
       "    </tr>\n",
       "  </thead>\n",
       "  <tbody>\n",
       "    <tr>\n",
       "      <th>9</th>\n",
       "      <td>Bir Lehlou</td>\n",
       "      <td>SAH</td>\n",
       "      <td>eu9hs6g5</td>\n",
       "      <td>500</td>\n",
       "      <td>NaN</td>\n",
       "    </tr>\n",
       "    <tr>\n",
       "      <th>147</th>\n",
       "      <td>Sanaa</td>\n",
       "      <td>YEM</td>\n",
       "      <td>sfxrmgsg</td>\n",
       "      <td>2008000</td>\n",
       "      <td>NaN</td>\n",
       "    </tr>\n",
       "    <tr>\n",
       "      <th>149</th>\n",
       "      <td>Damascus</td>\n",
       "      <td>SYR</td>\n",
       "      <td>svcy9fz7</td>\n",
       "      <td>2466000</td>\n",
       "      <td>NaN</td>\n",
       "    </tr>\n",
       "    <tr>\n",
       "      <th>164</th>\n",
       "      <td>Tripoli</td>\n",
       "      <td>LBY</td>\n",
       "      <td>smc75gvk</td>\n",
       "      <td>2189000</td>\n",
       "      <td>NaN</td>\n",
       "    </tr>\n",
       "    <tr>\n",
       "      <th>176</th>\n",
       "      <td>Denver</td>\n",
       "      <td>USA</td>\n",
       "      <td>9xj64fxs</td>\n",
       "      <td>2313000</td>\n",
       "      <td>NaN</td>\n",
       "    </tr>\n",
       "    <tr>\n",
       "      <th>177</th>\n",
       "      <td>Houston</td>\n",
       "      <td>USA</td>\n",
       "      <td>9vk1wkyj</td>\n",
       "      <td>4459000</td>\n",
       "      <td>NaN</td>\n",
       "    </tr>\n",
       "    <tr>\n",
       "      <th>213</th>\n",
       "      <td>Melbourne</td>\n",
       "      <td>AUS</td>\n",
       "      <td>r1r0fgqj</td>\n",
       "      <td>4170000</td>\n",
       "      <td>NaN</td>\n",
       "    </tr>\n",
       "    <tr>\n",
       "      <th>223</th>\n",
       "      <td>Moscow</td>\n",
       "      <td>RUS</td>\n",
       "      <td>ucftpvtr</td>\n",
       "      <td>10452000</td>\n",
       "      <td>NaN</td>\n",
       "    </tr>\n",
       "    <tr>\n",
       "      <th>240</th>\n",
       "      <td>Sydney</td>\n",
       "      <td>AUS</td>\n",
       "      <td>r3gx032k</td>\n",
       "      <td>4630000</td>\n",
       "      <td>NaN</td>\n",
       "    </tr>\n",
       "  </tbody>\n",
       "</table>\n",
       "</div>"
      ],
      "text/plain": [
       "           name region   geohash  population timezone\n",
       "9    Bir Lehlou    SAH  eu9hs6g5         500      NaN\n",
       "147       Sanaa    YEM  sfxrmgsg     2008000      NaN\n",
       "149    Damascus    SYR  svcy9fz7     2466000      NaN\n",
       "164     Tripoli    LBY  smc75gvk     2189000      NaN\n",
       "176      Denver    USA  9xj64fxs     2313000      NaN\n",
       "177     Houston    USA  9vk1wkyj     4459000      NaN\n",
       "213   Melbourne    AUS  r1r0fgqj     4170000      NaN\n",
       "223      Moscow    RUS  ucftpvtr    10452000      NaN\n",
       "240      Sydney    AUS  r3gx032k     4630000      NaN"
      ]
     },
     "execution_count": 69,
     "metadata": {},
     "output_type": "execute_result"
    }
   ],
   "source": [
    "df_export[df_export['timezone'].isna()]"
   ]
  },
  {
   "cell_type": "code",
   "execution_count": 70,
   "id": "2f5e8f64-3eaf-4258-ad36-87716d62a712",
   "metadata": {},
   "outputs": [],
   "source": [
    "patch_timezone = {\n",
    "    \"Bir Lehlou\":\n",
    "    {\n",
    "        \"time_zone\": \"Africa/El_Aaiun\"\n",
    "    },\n",
    "    \"Sanaa\":\n",
    "    {\n",
    "        \"time_zone\": \"Asia/Aden\"\n",
    "    },\n",
    "    \"Damascus\":\n",
    "    {\n",
    "        \"time_zone\": \"Asia/Damascus\"\n",
    "    },\n",
    "    \"Tripoli\":\n",
    "    {\n",
    "        \"time_zone\": \"Africa/Tripoli\"\n",
    "    },\n",
    "    \"Denver\":\n",
    "    {\n",
    "        \"time_zone\": \"America/Denver\"\n",
    "    },\n",
    "    \"Houston\":\n",
    "    {\n",
    "        \"time_zone\": \"America/Chicago\"\n",
    "    },\n",
    "    \"Melbourne\":\n",
    "    {\n",
    "        \"time_zone\": \"Australia/Melbourne\"\n",
    "    },\n",
    "    \"Moscow\":\n",
    "    {\n",
    "        \"time_zone\": \"Europe/Moscow\"\n",
    "    },\n",
    "    \"Sydney\":\n",
    "    {\n",
    "        \"time_zone\": \"Australia/Sydney\"\n",
    "    }\n",
    "}"
   ]
  },
  {
   "cell_type": "code",
   "execution_count": 71,
   "id": "58a4f26b-f7eb-4b64-9395-9bbe633c561f",
   "metadata": {},
   "outputs": [
    {
     "name": "stdout",
     "output_type": "stream",
     "text": [
      "patch Bir Lehlou Africa/El_Aaiun\n",
      "patch Sanaa Asia/Aden\n",
      "patch Damascus Asia/Damascus\n",
      "patch Tripoli Africa/Tripoli\n",
      "patch Denver America/Denver\n",
      "patch Houston America/Chicago\n",
      "patch Melbourne Australia/Melbourne\n",
      "patch Moscow Europe/Moscow\n",
      "patch Sydney Australia/Sydney\n"
     ]
    }
   ],
   "source": [
    "for name, d in patch_timezone.items():\n",
    "    print('patch', name, d['time_zone'])\n",
    "    df_export.loc[df_export['name'] == name, 'timezone'] = d['time_zone']"
   ]
  },
  {
   "cell_type": "markdown",
   "id": "bbd0a12e-b7db-484f-af35-9a7b7014cea6",
   "metadata": {},
   "source": [
    "# Modifications/Patch"
   ]
  },
  {
   "cell_type": "code",
   "execution_count": 72,
   "id": "db6bcf4e-7ac6-4c4e-8a2a-8606fbf718c4",
   "metadata": {},
   "outputs": [],
   "source": [
    "df_export.loc[df_export['name']=='Singapore', 'geohash'] = 'w21z9vkk' # Prevent singapore underwater"
   ]
  },
  {
   "cell_type": "markdown",
   "id": "f5dcff12-26f2-42eb-8821-5af96277bfb3",
   "metadata": {},
   "source": [
    "# Export to JSON"
   ]
  },
  {
   "cell_type": "code",
   "execution_count": 74,
   "id": "c484a9f3-c790-4961-a6cc-db8c7f9cc332",
   "metadata": {},
   "outputs": [],
   "source": [
    "df_export['description'] = ''\n",
    "\n",
    "df_export.to_json('sanctuaries.json', orient='records')"
   ]
  },
  {
   "cell_type": "code",
   "execution_count": null,
   "id": "1bea5c96-60b0-40c3-b69e-e0577ea28e47",
   "metadata": {},
   "outputs": [],
   "source": []
  },
  {
   "cell_type": "code",
   "execution_count": null,
   "id": "44a64dc9-456f-407d-a225-40c70ce543f2",
   "metadata": {},
   "outputs": [],
   "source": []
  },
  {
   "cell_type": "code",
   "execution_count": null,
   "id": "ce11084a-268d-4c2a-9ea0-556bd90932bd",
   "metadata": {},
   "outputs": [],
   "source": []
  },
  {
   "cell_type": "code",
   "execution_count": null,
   "id": "1fbfb7a4-84f2-45c0-b2b8-10b82133b1ef",
   "metadata": {},
   "outputs": [],
   "source": [
    "descriptions_prompt = \"\"\"\n",
    "I am creating a MUD, i needed descriptions for the following cities which are quite populated, it is a relaxed style MUD, descriptions should be short and brief but unique. Use the real world knowledge of the culture, heritage, geology, topology of the region. It is a fantasy reimagining the world so do not include any specific details about people or places. keep the descriptions to about 20-30 worlds, make it brief and concise\n",
    "\n",
    "These are the locations i need, just return me a csv with only 2 columns: name, description\n",
    "\"\"\""
   ]
  },
  {
   "cell_type": "code",
   "execution_count": null,
   "id": "c5181306-d49b-4b2f-b11f-5b6ac6b6a830",
   "metadata": {},
   "outputs": [],
   "source": []
  }
 ],
 "metadata": {
  "kernelspec": {
   "display_name": "Python 3 (ipykernel)",
   "language": "python",
   "name": "python3"
  },
  "language_info": {
   "codemirror_mode": {
    "name": "ipython",
    "version": 3
   },
   "file_extension": ".py",
   "mimetype": "text/x-python",
   "name": "python",
   "nbconvert_exporter": "python",
   "pygments_lexer": "ipython3",
   "version": "3.12.6"
  }
 },
 "nbformat": 4,
 "nbformat_minor": 5
}
