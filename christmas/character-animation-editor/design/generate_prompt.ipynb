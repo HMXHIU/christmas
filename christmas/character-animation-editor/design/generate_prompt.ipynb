{
 "cells": [
  {
   "cell_type": "code",
   "execution_count": 1,
   "id": "ce743bcd-d5f0-4a96-a202-d4baa2d0579d",
   "metadata": {},
   "outputs": [],
   "source": [
    "# Convert project files to a single prompt to upload to Claud Projects"
   ]
  },
  {
   "cell_type": "code",
   "execution_count": 13,
   "id": "7b21f217-4db3-4e52-8616-7ef6302a7e28",
   "metadata": {},
   "outputs": [],
   "source": [
    "from pathlib import Path"
   ]
  },
  {
   "cell_type": "code",
   "execution_count": 23,
   "id": "d0e0c56d-0ec8-4496-829c-6d2dcad07404",
   "metadata": {},
   "outputs": [],
   "source": [
    "skip_files_folders = {'assets', 'vite-env.d.ts', '.DS_Store'}\n",
    "src_folder = Path('./character-animation-editor/src')\n",
    "include_files = ['./character-animation-editor/index.html', './character-animation-editor/package.json']\n",
    "design_doc = Path('./Design Document.md')"
   ]
  },
  {
   "cell_type": "code",
   "execution_count": 27,
   "id": "73734ba7-1c30-447d-a0d9-766e6d92251c",
   "metadata": {},
   "outputs": [],
   "source": [
    "\n",
    "with open('prompt.md', 'w') as prompt:\n",
    "\n",
    "    prompt.writelines([\"This is the Design Document:\", '\\n\\n'])\n",
    "    \n",
    "    # Write design doc\n",
    "    prompt.write(design_doc.read_text())\n",
    "\n",
    "    # Write code base\n",
    "    prompt.writelines(['''\n",
    "This is the existing code base, each file is defined in the following format:\n",
    "\n",
    "[Path to the file enclosed in square brackets]\n",
    "```\n",
    "Code enclosed in tripple backticks\n",
    "```\n",
    "\n",
    "Here are the files:\n",
    "    ''', '\\n\\n'])\n",
    "    \n",
    "    for f in src_folder.rglob('*'):\n",
    "        if not any(p for p in f.parts if p in skip_files_folders) and f.is_file():\n",
    "            prompt.writelines([\n",
    "                f'[{\"/\".join(f.parts)}]', '\\n\\n',\n",
    "                '```', '\\n',\n",
    "                f.read_text(),\n",
    "                '```',\n",
    "                '\\n\\n',\n",
    "            ])\n",
    "    # Additional files\n",
    "    for f in [Path(f) for f in include_files]:\n",
    "        prompt.writelines([\n",
    "            f'[{\"/\".join(f.parts)}]', '\\n\\n',\n",
    "            '```', '\\n',\n",
    "            f.read_text(),\n",
    "            '```',\n",
    "            '\\n\\n',\n",
    "        ])\n",
    "    "
   ]
  },
  {
   "cell_type": "code",
   "execution_count": null,
   "id": "b670222f-59f2-4650-9b15-3e7e4ecc65d1",
   "metadata": {},
   "outputs": [],
   "source": []
  },
  {
   "cell_type": "code",
   "execution_count": null,
   "id": "25138c64-06c8-440c-9f85-f49f9cd9abcf",
   "metadata": {},
   "outputs": [],
   "source": []
  }
 ],
 "metadata": {
  "kernelspec": {
   "display_name": "Python 3 (ipykernel)",
   "language": "python",
   "name": "python3"
  },
  "language_info": {
   "codemirror_mode": {
    "name": "ipython",
    "version": 3
   },
   "file_extension": ".py",
   "mimetype": "text/x-python",
   "name": "python",
   "nbconvert_exporter": "python",
   "pygments_lexer": "ipython3",
   "version": "3.12.1"
  }
 },
 "nbformat": 4,
 "nbformat_minor": 5
}
