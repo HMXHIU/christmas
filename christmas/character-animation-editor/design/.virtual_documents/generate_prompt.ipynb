# Convert project files to a single prompt to upload to Claud Projects


from pathlib import Path


skip_files_folders = {'assets', 'vite-env.d.ts', '.DS_Store'}
src_folder = Path('../src')
include_files = ['../index.html', '../package.json']
design_doc = Path('./Design Document.md')



with open('prompt.md', 'w') as prompt:

    prompt.writelines(["This is the Design Document:", '\n\n'])
    
    # Write design doc
    prompt.write(design_doc.read_text())

    # Write code base
    prompt.writelines(['''
This is the existing code base, each file is defined in the following format:

[Path to the file enclosed in square brackets]
```
Code enclosed in tripple backticks
```

Here are the files:
    ''', '\n\n'])
    
    for f in src_folder.rglob('*'):
        if not any(p for p in f.parts if p in skip_files_folders) and f.is_file():
            prompt.writelines([
                f'[{"/".join(f.parts)}]', '\n\n',
                '```', '\n',
                f.read_text(),
                '```',
                '\n\n',
            ])
    # Additional files
    for f in [Path(f) for f in include_files]:
        prompt.writelines([
            f'[{"/".join(f.parts)}]', '\n\n',
            '```', '\n',
            f.read_text(),
            '```',
            '\n\n',
        ])
    






