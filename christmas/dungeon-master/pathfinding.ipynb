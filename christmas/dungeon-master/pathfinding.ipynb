{
 "cells": [
  {
   "cell_type": "code",
   "execution_count": 1,
   "id": "0d8a5842-9fad-4a1b-9cb7-70be68a0542f",
   "metadata": {},
   "outputs": [],
   "source": [
    "from dm.pathfinding import a_star_pathfinding\n",
    "from dm.world.biomes import traversable_cost, biome_at_geohash\n",
    "from dm.utils import geohash_to_col_row, col_row_to_geohash"
   ]
  },
  {
   "cell_type": "code",
   "execution_count": 2,
   "id": "721f0d8f-38d0-43d9-b2c6-88a4454df6e3",
   "metadata": {},
   "outputs": [
    {
     "data": {
      "text/plain": [
       "['se', 'se', 'se', 'se', 'se']"
      ]
     },
     "execution_count": 2,
     "metadata": {},
     "output_type": "execute_result"
    }
   ],
   "source": [
    "# Test astar\n",
    "a_star_pathfinding(0, 0, 5, 5, lambda r, c: 0)"
   ]
  },
  {
   "cell_type": "code",
   "execution_count": 3,
   "id": "638dc815-b1f1-42ee-a690-25db7cce91d4",
   "metadata": {},
   "outputs": [
    {
     "name": "stdout",
     "output_type": "stream",
     "text": [
      "110890 843504\n",
      "yk\n"
     ]
    },
    {
     "data": {
      "text/plain": [
       "0"
      ]
     },
     "execution_count": 3,
     "metadata": {},
     "output_type": "execute_result"
    }
   ],
   "source": [
    "# Test traversal cost\n",
    "c, r = geohash_to_col_row('yktgtysj')\n",
    "print(r, c)\n",
    "biome_at_geohash('yktgtysj')\n",
    "traversable_cost(r, c)"
   ]
  },
  {
   "cell_type": "code",
   "execution_count": 13,
   "id": "63743fe5-5cbc-4b68-9670-eecbd66b22b1",
   "metadata": {},
   "outputs": [
    {
     "name": "stdout",
     "output_type": "stream",
     "text": [
      "[]\n"
     ]
    }
   ],
   "source": [
    "# Test astar with cost function\n",
    "print(a_star_pathfinding(0, 0, 5, 5, traversable_cost, 1000))"
   ]
  },
  {
   "cell_type": "code",
   "execution_count": 5,
   "id": "d17d1851-4f41-4bb1-854b-27d84cb3c15a",
   "metadata": {},
   "outputs": [
    {
     "name": "stdout",
     "output_type": "stream",
     "text": [
      "['se', 'se', 'se', 'e', 'se', 's']\n"
     ]
    }
   ],
   "source": [
    "# need to put a range else it goes infinitly trying to find a solution\n",
    "print(a_star_pathfinding(110890, 843504, 110890+5, 843504+5, traversable_cost)) "
   ]
  },
  {
   "cell_type": "code",
   "execution_count": 10,
   "id": "77e0a3e3-7db1-49d3-99ac-bb884d9d5b8a",
   "metadata": {},
   "outputs": [
    {
     "data": {
      "text/plain": [
       "('forest', 0.7516921609014389)"
      ]
     },
     "execution_count": 10,
     "metadata": {},
     "output_type": "execute_result"
    }
   ],
   "source": [
    "biome_at_geohash(col_row_to_geohash(0,0,8))\n",
    "biome_at_geohash(col_row_to_geohash(0,1,8))\n",
    "biome_at_geohash(col_row_to_geohash(0,2,8))\n",
    "biome_at_geohash(col_row_to_geohash(1,2,8))"
   ]
  },
  {
   "cell_type": "code",
   "execution_count": 15,
   "id": "8e733dad-c6bf-4b27-843c-b935ab4b6527",
   "metadata": {},
   "outputs": [
    {
     "name": "stdout",
     "output_type": "stream",
     "text": [
      "0 0 ('forest', 0.06960894300282239)\n",
      "0 1 ('forest', 0.7274227841917309)\n",
      "0 2 ('forest', 0.6838663437243668)\n",
      "0 3 ('forest', 0.2982338022469777)\n",
      "0 4 ('forest', 0.5588996035512537)\n",
      "0 5 ('forest', 0.35280334483541087)\n",
      "1 0 ('forest', 0.2943462774877845)\n",
      "1 1 ('forest', 0.7795936289083328)\n",
      "1 2 ('forest', 0.7516921609014389)\n",
      "1 3 ('forest', 0.5304977174921077)\n",
      "1 4 ('forest', 0.7541151793684548)\n",
      "1 5 ('forest', 0.7310817393947218)\n",
      "2 0 ('forest', 0.21187836958561101)\n",
      "2 1 ('forest', 0.9026960637944285)\n",
      "2 2 ('forest', 0.18058072657295265)\n",
      "2 3 ('forest', 0.41577432131089154)\n",
      "2 4 ('forest', 0.1153326999090496)\n",
      "2 5 ('forest', 0.8504350062095909)\n",
      "3 0 ('forest', 0.500440062621783)\n",
      "3 1 ('forest', 0.5641810668010294)\n",
      "3 2 ('forest', 0.39220434411254246)\n",
      "3 3 ('forest', 0.9002290165313752)\n",
      "3 4 ('water', 0.7959391830881946)\n",
      "3 5 ('forest', 0.1582356106078805)\n",
      "4 0 ('forest', 0.638863062119708)\n",
      "4 1 ('forest', 0.43362042940134415)\n",
      "4 2 ('forest', 0.09034755187531118)\n",
      "4 3 ('forest', 0.5139493427763228)\n",
      "4 4 ('forest', 0.5285043739975662)\n",
      "4 5 ('forest', 0.6674227116591964)\n",
      "5 0 ('forest', 0.6307701966194145)\n",
      "5 1 ('forest', 0.8547033587368789)\n",
      "5 2 ('forest', 0.8908975808248215)\n",
      "5 3 ('water', 0.5166387735807798)\n",
      "5 4 ('forest', 0.4060808695761806)\n",
      "5 5 ('water', 0.33905621335725444)\n"
     ]
    }
   ],
   "source": [
    "for i in range(6):\n",
    "    for j in range(6):\n",
    "        print(i,j,biome_at_geohash(col_row_to_geohash(i,j,8)))"
   ]
  },
  {
   "cell_type": "code",
   "execution_count": null,
   "id": "1819ba88-3ec7-4894-a6a0-4d627473493d",
   "metadata": {},
   "outputs": [],
   "source": []
  }
 ],
 "metadata": {
  "kernelspec": {
   "display_name": "Python 3 (ipykernel)",
   "language": "python",
   "name": "python3"
  },
  "language_info": {
   "codemirror_mode": {
    "name": "ipython",
    "version": 3
   },
   "file_extension": ".py",
   "mimetype": "text/x-python",
   "name": "python",
   "nbconvert_exporter": "python",
   "pygments_lexer": "ipython3",
   "version": "3.12.1"
  }
 },
 "nbformat": 4,
 "nbformat_minor": 5
}
