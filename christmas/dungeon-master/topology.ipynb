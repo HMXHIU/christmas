{
 "cells": [
  {
   "cell_type": "code",
   "execution_count": 6,
   "id": "758e6097-e9ba-4583-8f2b-60a261e1b22d",
   "metadata": {},
   "outputs": [],
   "source": [
    "from PIL import Image\n",
    "import numpy as np\n",
    "from functools import lru_cache\n",
    "\n",
    "from dm.world.biomes import topology_at_geohash, biome_at_geohash"
   ]
  },
  {
   "cell_type": "code",
   "execution_count": 7,
   "id": "3cda1747-9215-4e48-ad7c-2d39f85e8f2e",
   "metadata": {},
   "outputs": [
    {
     "data": {
      "text/plain": [
       "35"
      ]
     },
     "execution_count": 7,
     "metadata": {},
     "output_type": "execute_result"
    }
   ],
   "source": [
    "# Test elevation\n",
    "topology_at_geohash('w21z9ke7')"
   ]
  },
  {
   "cell_type": "code",
   "execution_count": 8,
   "id": "283d57d5-a726-4fce-adec-ffbebd28448c",
   "metadata": {},
   "outputs": [
    {
     "data": {
      "text/plain": [
       "('forest', 0.4453846552132745)"
      ]
     },
     "execution_count": 8,
     "metadata": {},
     "output_type": "execute_result"
    }
   ],
   "source": [
    "# Test on land\n",
    "biome_at_geohash('w21z9ke7')"
   ]
  },
  {
   "cell_type": "code",
   "execution_count": 9,
   "id": "b4c531ae-718c-4857-92e0-0237aab97fe8",
   "metadata": {},
   "outputs": [
    {
     "data": {
      "text/plain": [
       "('water', 1)"
      ]
     },
     "execution_count": 9,
     "metadata": {},
     "output_type": "execute_result"
    }
   ],
   "source": [
    "# Test in ocean\n",
    "biome_at_geohash('w21w77s')"
   ]
  },
  {
   "cell_type": "code",
   "execution_count": null,
   "id": "170372d1-ffc8-42f7-97e3-eb934f6f2258",
   "metadata": {},
   "outputs": [],
   "source": []
  }
 ],
 "metadata": {
  "kernelspec": {
   "display_name": "Python 3 (ipykernel)",
   "language": "python",
   "name": "python3"
  },
  "language_info": {
   "codemirror_mode": {
    "name": "ipython",
    "version": 3
   },
   "file_extension": ".py",
   "mimetype": "text/x-python",
   "name": "python",
   "nbconvert_exporter": "python",
   "pygments_lexer": "ipython3",
   "version": "3.12.1"
  }
 },
 "nbformat": 4,
 "nbformat_minor": 5
}
