{
 "cells": [
  {
   "cell_type": "code",
   "execution_count": 1,
   "id": "8b5db8e8-5a11-4579-bb70-0d69da18c383",
   "metadata": {},
   "outputs": [],
   "source": [
    "from redis import Redis\n",
    "from dotenv import load_dotenv\n",
    "import os\n",
    "from dm.game import Game\n",
    "import asyncio"
   ]
  },
  {
   "cell_type": "code",
   "execution_count": 2,
   "id": "e340b9df-e247-46d1-9f81-599246f5ce3c",
   "metadata": {},
   "outputs": [],
   "source": [
    "load_dotenv()\n",
    "REDIS_HOST = os.getenv('REDIS_HOST')\n",
    "REDIS_PORT = os.getenv('REDIS_PORT')\n",
    "REDIS_USERNAME = os.getenv('REDIS_USERNAME')\n",
    "REDIS_PASSWORD = os.getenv('REDIS_PASSWORD')\n",
    "API_HOST = os.getenv('API_HOST')\n",
    "DUNGEON_MASTER_TOKEN = os.getenv('DUNGEON_MASTER_TOKEN')\n",
    "\n",
    "# Connect to redis\n",
    "redis_client = Redis(host=REDIS_HOST, port=REDIS_PORT, username=REDIS_USERNAME, password=REDIS_PASSWORD, db=0, protocol=3, decode_responses=True)\n",
    "\n",
    "# Create game client\n",
    "game = Game(redis_client, 2, dm_token=DUNGEON_MASTER_TOKEN, api_host=API_HOST)"
   ]
  },
  {
   "cell_type": "markdown",
   "id": "f5f2fae4-ed47-433d-ac1e-d2251c890914",
   "metadata": {},
   "source": [
    "## Aggregate relevant players and monsters by plots\n",
    "\n",
    "1. Get all players from redis\n",
    "2. Collect all unique geohashes from players\n",
    "3. Segment out plots for AI to work on, a plot contains a set of players, monsters in a geohash\n",
    "4. There should be no overlaps in the plots (players, monsters) so that the AI can run in parallel"
   ]
  },
  {
   "cell_type": "code",
   "execution_count": 3,
   "id": "7d6c8758-cab0-409a-a2f1-91be0bfe1ab7",
   "metadata": {},
   "outputs": [
    {
     "name": "stdout",
     "output_type": "stream",
     "text": [
      "monster_goblin8807747\n",
      "monster_goblin8813432\n",
      "monster_giantSpider8828793\n",
      "monster_dragon8781845\n",
      "monster_goblin8797364\n",
      "monster_dragon8835705\n",
      "monster_goblin8849321\n",
      "monster_goblin8865341\n",
      "monster_giantSpider8873163\n",
      "monster_goblin8856152\n",
      "monster_dragon8835705\n"
     ]
    }
   ],
   "source": [
    "\n",
    "num_processed = 0\n",
    "process_limit = 10 # for testing\n",
    "\n",
    "for player in game.logged_in_players():\n",
    "    player_geohash = player['loc'][0]\n",
    "    for monster in game.get_nearby_entities(player_geohash, monsters=True):\n",
    "        print(monster['monster'])\n",
    "        num_processed +=1\n",
    "        if num_processed > process_limit:\n",
    "            break\n",
    "    if num_processed > process_limit:\n",
    "            break\n",
    "        "
   ]
  },
  {
   "cell_type": "code",
   "execution_count": 4,
   "id": "e3c3e0bc-591a-4cb6-80f0-c5e59c038a67",
   "metadata": {},
   "outputs": [
    {
     "name": "stdout",
     "output_type": "stream",
     "text": [
      "{'monster': 'monster_goblin8856152', 'name': 'goblin', 'beast': 'goblin', 'loc': ['h9h8pt9w'], 'locT': 'geohash', 'locI': '@', 'hp': 10, 'mnd': 1, 'cha': 1, 'lum': 0, 'umb': 0, 'skills': {'beast': 1, 'dirtyfighting': 1, 'monster': 1, 'firstaid': 1}, 'buclk': 1728280174225, 'buf': [], 'dbuf': [], 'pthclk': 1728280174125, 'pthdur': 100, 'pth': ['s'], 'pthst': 'h9h8pt9x'}\n"
     ]
    },
    {
     "data": {
      "text/plain": [
       "{'beast': 1, 'dirtyfighting': 1, 'monster': 1, 'firstaid': 1}"
      ]
     },
     "execution_count": 4,
     "metadata": {},
     "output_type": "execute_result"
    }
   ],
   "source": [
    "m = game.fetch_entity('monster_goblin8856152')\n",
    "print(m)\n",
    "m['skills']"
   ]
  },
  {
   "cell_type": "code",
   "execution_count": 5,
   "id": "f3b5bfdb-9da8-4139-87d1-db30861d7256",
   "metadata": {},
   "outputs": [],
   "source": [
    "await game.perform_monster_move(m, directions=['s'])"
   ]
  },
  {
   "cell_type": "code",
   "execution_count": 6,
   "id": "55d2f6ea-a512-421f-a73c-1b71b8907be6",
   "metadata": {},
   "outputs": [
    {
     "data": {
      "text/plain": [
       "['eyePoke', 'bandage']"
      ]
     },
     "execution_count": 6,
     "metadata": {},
     "output_type": "execute_result"
    }
   ],
   "source": [
    "await game.query_monster_abilities(m)"
   ]
  },
  {
   "cell_type": "code",
   "execution_count": null,
   "id": "ef42b1a8-d7c3-47a1-b751-23f19cf0fde1",
   "metadata": {},
   "outputs": [],
   "source": []
  },
  {
   "cell_type": "code",
   "execution_count": null,
   "id": "e8ad2d25-f889-4094-a008-d23057709be1",
   "metadata": {},
   "outputs": [],
   "source": []
  },
  {
   "cell_type": "code",
   "execution_count": null,
   "id": "cf881c6b-fb63-43ee-bc3d-9e5269903d51",
   "metadata": {},
   "outputs": [],
   "source": []
  }
 ],
 "metadata": {
  "kernelspec": {
   "display_name": "Python 3 (ipykernel)",
   "language": "python",
   "name": "python3"
  },
  "language_info": {
   "codemirror_mode": {
    "name": "ipython",
    "version": 3
   },
   "file_extension": ".py",
   "mimetype": "text/x-python",
   "name": "python",
   "nbconvert_exporter": "python",
   "pygments_lexer": "ipython3",
   "version": "3.12.6"
  }
 },
 "nbformat": 4,
 "nbformat_minor": 5
}
