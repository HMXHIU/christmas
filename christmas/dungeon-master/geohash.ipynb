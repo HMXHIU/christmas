{
 "cells": [
  {
   "cell_type": "code",
   "execution_count": 1,
   "id": "55c4e8ca-8292-461c-8a39-4d2157c79773",
   "metadata": {},
   "outputs": [],
   "source": [
    "from dm.utils import col_row_to_geohash, geohash_to_col_row"
   ]
  },
  {
   "cell_type": "code",
   "execution_count": 8,
   "id": "601e268a-7e9e-4947-b198-f698b51b9262",
   "metadata": {},
   "outputs": [
    {
     "data": {
      "text/plain": [
       "(26285, 3435)"
      ]
     },
     "execution_count": 8,
     "metadata": {},
     "output_type": "execute_result"
    }
   ],
   "source": [
    "geohash_to_col_row('yktkek') # (825777, 517769)"
   ]
  },
  {
   "cell_type": "code",
   "execution_count": 9,
   "id": "6217a07d-e89e-4c3f-ab25-dd022daaee35",
   "metadata": {},
   "outputs": [
    {
     "data": {
      "text/plain": [
       "'yktkek'"
      ]
     },
     "execution_count": 9,
     "metadata": {},
     "output_type": "execute_result"
    }
   ],
   "source": [
    "col_row_to_geohash(26285, 3435, 6) # 9tv6w11u"
   ]
  },
  {
   "cell_type": "code",
   "execution_count": null,
   "id": "70aeb641-584c-4a28-9d4e-654e801cea3e",
   "metadata": {},
   "outputs": [],
   "source": []
  }
 ],
 "metadata": {
  "kernelspec": {
   "display_name": "Python 3 (ipykernel)",
   "language": "python",
   "name": "python3"
  },
  "language_info": {
   "codemirror_mode": {
    "name": "ipython",
    "version": 3
   },
   "file_extension": ".py",
   "mimetype": "text/x-python",
   "name": "python",
   "nbconvert_exporter": "python",
   "pygments_lexer": "ipython3",
   "version": "3.12.1"
  }
 },
 "nbformat": 4,
 "nbformat_minor": 5
}
