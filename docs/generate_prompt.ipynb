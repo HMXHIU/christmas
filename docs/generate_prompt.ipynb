{
 "cells": [
  {
   "cell_type": "code",
   "execution_count": 6,
   "id": "ce743bcd-d5f0-4a96-a202-d4baa2d0579d",
   "metadata": {},
   "outputs": [],
   "source": [
    "# Convert project files to a single prompt to upload to Claud Projects\n",
    "from pathlib import Path\n",
    "import fnmatch"
   ]
  },
  {
   "cell_type": "markdown",
   "id": "75d82bf4-71b8-48b0-ba86-296873bfa45e",
   "metadata": {},
   "source": [
    "## Character Animation Editor"
   ]
  },
  {
   "cell_type": "code",
   "execution_count": 2,
   "id": "d0e0c56d-0ec8-4496-829c-6d2dcad07404",
   "metadata": {},
   "outputs": [],
   "source": [
    "skip_files_folders = {'assets', 'vite-env.d.ts', '.DS_Store'}\n",
    "src_folder = Path('../src')\n",
    "include_files = ['../index.html', '../package.json']\n",
    "design_doc = Path('./Design Document.md')"
   ]
  },
  {
   "cell_type": "code",
   "execution_count": 3,
   "id": "73734ba7-1c30-447d-a0d9-766e6d92251c",
   "metadata": {},
   "outputs": [],
   "source": [
    "with open('prompt.md', 'w') as prompt:\n",
    "\n",
    "    prompt.writelines([\"This is the Design Document:\", '\\n\\n'])\n",
    "    \n",
    "    # Write design doc\n",
    "    prompt.write(design_doc.read_text())\n",
    "\n",
    "    # Write code base\n",
    "    prompt.writelines(['''\n",
    "This is the existing code base, each file is defined in the following format:\n",
    "\n",
    "[Path to the file enclosed in square brackets]\n",
    "```\n",
    "Code enclosed in tripple backticks\n",
    "```\n",
    "\n",
    "Here are the files:\n",
    "    ''', '\\n\\n'])\n",
    "    \n",
    "    for f in src_folder.rglob('*'):\n",
    "        if not any(p for p in f.parts if p in skip_files_folders) and f.is_file():\n",
    "            prompt.writelines([\n",
    "                f'[{\"/\".join(f.parts)}]', '\\n\\n',\n",
    "                '```', '\\n',\n",
    "                f.read_text(),\n",
    "                '```',\n",
    "                '\\n\\n',\n",
    "            ])\n",
    "    # Additional files\n",
    "    for f in [Path(f) for f in include_files]:\n",
    "        prompt.writelines([\n",
    "            f'[{\"/\".join(f.parts)}]', '\\n\\n',\n",
    "            '```', '\\n',\n",
    "            f.read_text(),\n",
    "            '```',\n",
    "            '\\n\\n',\n",
    "        ])"
   ]
  },
  {
   "cell_type": "code",
   "execution_count": null,
   "id": "b670222f-59f2-4650-9b15-3e7e4ecc65d1",
   "metadata": {},
   "outputs": [],
   "source": [
    "## Crossover"
   ]
  },
  {
   "cell_type": "code",
   "execution_count": 19,
   "id": "25138c64-06c8-440c-9f85-f49f9cd9abcf",
   "metadata": {},
   "outputs": [],
   "source": [
    "skip_files_folders = {'assets', 'vite-env.d.ts', '.DS_Store', '.env', '.gitignore'}\n",
    "include_only_files = {'*.ts', '*.js', '*.svelte', '*.md', '*.json'}\n",
    "dest = Path('./crossover/prompt.md')\n",
    "folders = [\n",
    "    # Design Docs\n",
    "    {\n",
    "        \"header\": '''\n",
    "\n",
    "This are the design document, each file is defined in the following format:\n",
    "\n",
    "[Path to the file enclosed in square brackets]\n",
    "```\n",
    "Document enclosed in tripple backticks\n",
    "```\n",
    "\n",
    "Here are the files:\n",
    "\n",
    "        ''',\n",
    "        \"path\": [Path('./crossover')]\n",
    "    },\n",
    "    # Code\n",
    "    {\n",
    "        \"header\": '''\n",
    "    \n",
    "This is the existing code base, each file is defined in the following format:\n",
    "\n",
    "[Path to the file enclosed in square brackets]\n",
    "```\n",
    "Code enclosed in tripple backticks\n",
    "```\n",
    "\n",
    "Here are the files:\n",
    "\n",
    "        ''',\n",
    "        \"path\": [\n",
    "            Path('../christmas/app/src/lib/crossover'),\n",
    "            Path('../christmas/app/src/lib/components/crossover'),\n",
    "            Path('../christmas/app/src/lib/server/crossover'),\n",
    "            \n",
    "        ]\n",
    "    },\n",
    "    \n",
    "]"
   ]
  },
  {
   "cell_type": "code",
   "execution_count": 20,
   "id": "ead3f67b-1a5c-48f9-8f25-094597a47720",
   "metadata": {},
   "outputs": [],
   "source": [
    "\n",
    "def should_include_file(file_path):\n",
    "    return (\n",
    "        file_path.is_file() and\n",
    "        not any(p for p in file_path.parts if p in skip_files_folders) and\n",
    "        any(fnmatch.fnmatch(file_path.name, pattern) for pattern in include_only_files)\n",
    "    )\n",
    "\n",
    "with open(dest, 'w') as prompt:\n",
    "    for folder in folders:\n",
    "        prompt.write(folder[\"header\"])\n",
    "        prompt.write('\\n')\n",
    "        \n",
    "        for path in folder[\"path\"]:\n",
    "            for file_path in path.rglob('*'):\n",
    "                if should_include_file(file_path):\n",
    "                    relative_path = file_path.relative_to(path)\n",
    "                    prompt.writelines([\n",
    "                        f'[{relative_path}]\\n\\n',\n",
    "                        '```\\n',\n",
    "                        file_path.read_text(),\n",
    "                        '\\n```\\n\\n'\n",
    "                    ])"
   ]
  },
  {
   "cell_type": "code",
   "execution_count": null,
   "id": "b59fd705-9042-4f7f-aee7-fbfb0f21e6be",
   "metadata": {},
   "outputs": [],
   "source": []
  }
 ],
 "metadata": {
  "kernelspec": {
   "display_name": "Python 3 (ipykernel)",
   "language": "python",
   "name": "python3"
  },
  "language_info": {
   "codemirror_mode": {
    "name": "ipython",
    "version": 3
   },
   "file_extension": ".py",
   "mimetype": "text/x-python",
   "name": "python",
   "nbconvert_exporter": "python",
   "pygments_lexer": "ipython3",
   "version": "3.12.1"
  }
 },
 "nbformat": 4,
 "nbformat_minor": 5
}
